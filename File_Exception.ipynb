{
  "nbformat": 4,
  "nbformat_minor": 0,
  "metadata": {
    "colab": {
      "provenance": []
    },
    "kernelspec": {
      "name": "python3",
      "display_name": "Python 3"
    },
    "language_info": {
      "name": "python"
    }
  },
  "cells": [
    {
      "cell_type": "markdown",
      "source": [
        "# Files, exceptional handling , logging and memory management\n",
        "\n"
      ],
      "metadata": {
        "id": "EJiUS3lmtthP"
      }
    },
    {
      "cell_type": "markdown",
      "source": [
        "1. **What is the difference between interpreted and compiled languages**?\n",
        "\n",
        "--> Interpreted: Code is executed line-by-line (e.g., Python).\n",
        "\n",
        "    Compiled: Code is converted to machine code before execution (e.g., C, C++)\n",
        "\n",
        "2. **What is exception handling in Python ?**\n",
        "\n",
        "--> It's a way to handle errors using try, except, finally, and else.\n",
        "\n",
        " try:\n",
        "\n",
        " x = 10 / 0\n",
        "\n",
        "except ZeroDivisionError:\n",
        "\n",
        "print(\"You can't divide by zero.\")  \n",
        "\n",
        "\n",
        "3. **What is the purpose of the finally block in exception handling** ?\n",
        "\n",
        "--> Executes no matter what, even if there’s an error.   \n",
        "Example:    \n",
        " try:  \n",
        " x = 10 / 0\n",
        "except:   \n",
        "    print(\"Error\")  \n",
        "finally:   \n",
        "    print(\"This will always run\")\n",
        "\n",
        "\n",
        "4. **What is logging in Python** ?\n",
        "\n",
        "--> It is Used to record program events for debugging.\n",
        "\n",
        "   import logging  \n",
        "logging.warning(\"This is a warning\")\n",
        "\n",
        "\n",
        "5. **What is the significance of the __del__ method in Python?**\n",
        "\n",
        "--> It’s a destructor, called when an object is deleted.\n",
        "\n",
        "  Example:  \n",
        "  class Example:  \n",
        "    def __del__(self):  \n",
        "        print(\"Object destroyed\")\n",
        "\n",
        "6. **What is the difference between import and from ... import in Python ?**\n",
        "\n",
        "--> import math → use math.sqrt()\n",
        "\n",
        "from math import sqrt → use sqrt() directly\n",
        "\n",
        "\n",
        "7. **How can you handle multiple exceptions in Python ?**\n",
        "\n",
        "--> try:  \n",
        "    x = int(\"abc\")  \n",
        "    except (ValueError, TypeError) as e:    \n",
        "    print(\"Caught exception:\", e)\n",
        "\n",
        "8. **What is the purpose of the with statement when handling files in Python ?**\n",
        "\n",
        "--> the purpose of the with statement when handling files in Python is to Manages file opening and closing safely.\n",
        "\n",
        "Example:    \n",
        "with open(\"file.txt\") as f:  \n",
        "   data = f.read()\n",
        "\n",
        "9. **What is the difference between multithreading and multiprocessing?**\n",
        "\n",
        "--> Multithreading: Threads share the same memory.\n",
        "\n",
        "Multiprocessing: Each process has separate memory (better for CPU tasks)\n",
        "\n",
        "\n",
        "10. **What are the advantages of using logging in a program ?**\n",
        "\n",
        "-->  * Easier debugging  \n",
        "      * Persistent logs  \n",
        "      * Adjustable logging levels\n",
        "\n",
        "11. **What is memory management in Python ?**\n",
        "\n",
        "-->  memory management in Python is Handled via reference counting and garbage collection.\n",
        "\n",
        "12.  **What are the basic steps involved in exception handling in Python ?**\n",
        "\n",
        "-->Basic Steps in Exception Handling  \n",
        "* try: Code that might cause error\n",
        "\n",
        "* except: Handles error\n",
        "\n",
        "* else: If no error\n",
        "\n",
        "* finally: Always runs\n",
        "\n",
        "\n",
        "13. **Why is memory management important in Python ?**\n",
        "\n",
        "--> To Prevents memory leaks and improves performance.\n",
        "\n",
        "14. **What is the role of try and except in exception handling ?**\n",
        "\n",
        "--> To Catches and handles exceptions without crashing.\n",
        "\n",
        "15. **How does Python's garbage collection system work ?**\n",
        "\n",
        "--> It Automatic; uses reference counting and a cyclic garbage collector.\n",
        "\n",
        "* import gc  \n",
        "gc.collect()\n",
        "\n",
        "16. **What is the purpose of the else block in exception handling ?**\n",
        "\n",
        "--> the purpose of the else is Runs only if no exception occurs.\n",
        "* try:  \n",
        "    x = 10 / 2  \n",
        "except:  \n",
        "    print(\"Error\")   \n",
        "else:  \n",
        "    print(\"Success!\")\n",
        "\n",
        "17. **What are the common logging levels in Python ?**\n",
        "\n",
        "--> DEBUG,INFO,WARNING,ERROR,CRITICAL\n",
        "\n",
        "18. **What is the difference between os.fork() and multiprocessing in Python ?**\n",
        "\n",
        "--> the difference between os.fork() and multiprocessing in Python\n",
        " * os.fork(): Unix-only, lower-level\n",
        "\n",
        "* multiprocessing: Cross-platform and high-level\n",
        "\n",
        "\n",
        "19. **What is the importance of closing a file in Python ?**\n",
        "\n",
        "--> Frees up system resources and avoids file corruption.\n",
        "\n",
        "20. **What is the difference between file.read() and file.readline() in Python?**\n",
        "\n",
        "--> read() vs readline()\n",
        "* read() → reads whole file.\n",
        "\n",
        "* readline() → reads one line at a time.\n",
        "\n",
        "21. **What is the logging module in Python used for?**\n",
        "\n",
        "--> To Records messages (debug, error, etc.) to console or file.\n",
        "\n",
        "22. **What is the os module in Python used for in file handling ?**\n",
        "\n",
        "--> os Module in File Handling\n",
        "Performs operations like deleting or renaming files.\n",
        "\n",
        "* import os  \n",
        "os.remove(\"file.txt\")\n",
        "\n",
        "23. **What are the challenges associated with memory management in Python ?**\n",
        "\n",
        "--> Challenges of Memory Management  \n",
        "* Detecting unused objects\n",
        "\n",
        "* Cyclic references\n",
        "\n",
        "* Managing memory in large apps\n",
        "\n",
        "24. **How do you raise an exception manually in Python ?**\n",
        "\n",
        "--> raise ValueError(\"Invalid input\")\n",
        "\n",
        "25. **Why is it important to use multithreading in certain applications ?**\n",
        "\n",
        "-->  Importance of Multithreading  \n",
        "* Improves performance in I/O-bound tasks\n",
        "\n",
        "* Runs tasks in parallel\n",
        "\n"
      ],
      "metadata": {
        "id": "Se58D2dMt_tu"
      }
    },
    {
      "cell_type": "markdown",
      "source": [
        "# Practical Questions"
      ],
      "metadata": {
        "id": "HnVtZiOBS_V0"
      }
    },
    {
      "cell_type": "code",
      "source": [
        "#  How can you open a file for writing in Python and write a string to it?\n",
        "\n",
        "with open(\"example.txt\", \"w\") as file:\n",
        "    file.write(\"Hello, this is a test.\")\n",
        ""
      ],
      "metadata": {
        "id": "RqmJEbDctqVa"
      },
      "execution_count": 1,
      "outputs": []
    },
    {
      "cell_type": "code",
      "source": [
        "# Write a Python program to read the contents of a file and print each line\n",
        "\n",
        "with open(\"example.txt\", \"r\") as file:\n",
        "    for line in file:\n",
        "        print(line.strip())"
      ],
      "metadata": {
        "colab": {
          "base_uri": "https://localhost:8080/"
        },
        "id": "3KA6p_J8T2_d",
        "outputId": "2a6270eb-5f2c-4218-ff37-a9b992c4ea2b"
      },
      "execution_count": 2,
      "outputs": [
        {
          "output_type": "stream",
          "name": "stdout",
          "text": [
            "Hello, this is a test.\n"
          ]
        }
      ]
    },
    {
      "cell_type": "code",
      "source": [
        "#  How would you handle a case where the file doesn't exist while trying to open it for reading ?\n",
        "\n",
        "try:\n",
        "    with open(\"non_existent.txt\", \"r\") as file:\n",
        "        print(file.read())\n",
        "except FileNotFoundError:\n",
        "    print(\"The file does not exist.\")"
      ],
      "metadata": {
        "colab": {
          "base_uri": "https://localhost:8080/"
        },
        "id": "5rSc8syiS6mZ",
        "outputId": "c54ac8ce-0718-4524-8af8-c6fb475b95ea"
      },
      "execution_count": 3,
      "outputs": [
        {
          "output_type": "stream",
          "name": "stdout",
          "text": [
            "The file does not exist.\n"
          ]
        }
      ]
    },
    {
      "cell_type": "code",
      "source": [
        "# Write a Python script that reads from one file and writes its content to another file.\n",
        "\n",
        "with open(\"example.txt\", \"r\") as source:\n",
        "    content = source.read()\n",
        "\n",
        "with open(\"copy.txt\", \"w\") as dest:\n",
        "    dest.write(content)\n"
      ],
      "metadata": {
        "id": "7turKwArVQVm"
      },
      "execution_count": 4,
      "outputs": []
    },
    {
      "cell_type": "code",
      "source": [
        "# How would you catch and handle division by zero error in Python.\n",
        "\n",
        "try:\n",
        "    result = 10 / 0\n",
        "except ZeroDivisionError:\n",
        "    print(\"You can't divide by zero.\")\n"
      ],
      "metadata": {
        "colab": {
          "base_uri": "https://localhost:8080/"
        },
        "id": "j-EPIkBaVcB0",
        "outputId": "c829096f-3714-4b7e-d976-123684e69f1a"
      },
      "execution_count": 5,
      "outputs": [
        {
          "output_type": "stream",
          "name": "stdout",
          "text": [
            "You can't divide by zero.\n"
          ]
        }
      ]
    },
    {
      "cell_type": "code",
      "source": [
        "# Write a Python program that logs an error message to a log file when a division by zero exception occurs.\n",
        "\n",
        "import logging\n",
        "logging.basicConfig(filename='error.log', level=logging.ERROR)\n",
        "\n",
        "try:\n",
        "    result = 10 / 0\n",
        "except ZeroDivisionError:\n",
        "    logging.error(\"Division by zero occurred\")\n"
      ],
      "metadata": {
        "colab": {
          "base_uri": "https://localhost:8080/"
        },
        "id": "JT1QuORAVnoy",
        "outputId": "1d8220ff-b626-4468-c5cb-0b61d1dfa175"
      },
      "execution_count": 6,
      "outputs": [
        {
          "output_type": "stream",
          "name": "stderr",
          "text": [
            "ERROR:root:Division by zero occurred\n"
          ]
        }
      ]
    },
    {
      "cell_type": "code",
      "source": [
        "# How do you log information at different levels (INFO, ERROR, WARNING) in Python using the logging module ?\n",
        "\n",
        "import logging\n",
        "logging.basicConfig(level=logging.DEBUG)\n",
        "\n",
        "logging.info(\"This is info\")\n",
        "logging.warning(\"This is warning\")\n",
        "logging.error(\"This is error\")\n"
      ],
      "metadata": {
        "colab": {
          "base_uri": "https://localhost:8080/"
        },
        "id": "BwIvPgKuWBY5",
        "outputId": "5e918cf3-622a-4229-8cd0-9ecbbce278e8"
      },
      "execution_count": 7,
      "outputs": [
        {
          "output_type": "stream",
          "name": "stderr",
          "text": [
            "WARNING:root:This is warning\n",
            "ERROR:root:This is error\n"
          ]
        }
      ]
    },
    {
      "cell_type": "code",
      "source": [
        "# Write a program to handle a file opening error using exception handling.\n",
        "\n",
        "try:\n",
        "    f = open(\"missing.txt\")\n",
        "except IOError:\n",
        "    print(\"Error opening file\")\n"
      ],
      "metadata": {
        "colab": {
          "base_uri": "https://localhost:8080/"
        },
        "id": "5V3W9oJQWNCJ",
        "outputId": "ac2e21e4-82b7-49ae-e5ea-9b16a9ccda3e"
      },
      "execution_count": 8,
      "outputs": [
        {
          "output_type": "stream",
          "name": "stdout",
          "text": [
            "Error opening file\n"
          ]
        }
      ]
    },
    {
      "cell_type": "code",
      "source": [
        "# How can you read a file line by line and store its content in a list in Python ?\n",
        "\n",
        "with open(\"example.txt\", \"r\") as f:\n",
        "    lines = f.readlines()\n",
        "\n",
        "print(lines)\n"
      ],
      "metadata": {
        "colab": {
          "base_uri": "https://localhost:8080/"
        },
        "id": "s8SWgI0rWX4I",
        "outputId": "f6523544-4c57-448d-adf2-a897459f4dc0"
      },
      "execution_count": 10,
      "outputs": [
        {
          "output_type": "stream",
          "name": "stdout",
          "text": [
            "['Hello, this is a test.']\n"
          ]
        }
      ]
    },
    {
      "cell_type": "code",
      "source": [
        "#  How can you append data to an existing file in Python ?\n",
        "\n",
        "with open(\"file1.txt\", \"a\") as f:\n",
        "    f.write(\"\\nAppended line\")\n"
      ],
      "metadata": {
        "id": "AedT4cgVWsoh"
      },
      "execution_count": 11,
      "outputs": []
    },
    {
      "cell_type": "code",
      "source": [
        "# Write a Python program that uses a try-except block to handle an error when attempting to access a\n",
        "# dictionary key that doesn't exist.\n",
        "\n",
        "try:\n",
        "    d = {'a': 1}\n",
        "    print(d['b'])\n",
        "except KeyError:\n",
        "    print(\"Key not found.\")\n"
      ],
      "metadata": {
        "colab": {
          "base_uri": "https://localhost:8080/"
        },
        "id": "mqAeWvEvW3TV",
        "outputId": "72d10b56-83cb-47e2-c84a-70fde18c4171"
      },
      "execution_count": 12,
      "outputs": [
        {
          "output_type": "stream",
          "name": "stdout",
          "text": [
            "Key not found.\n"
          ]
        }
      ]
    },
    {
      "cell_type": "code",
      "source": [
        "# Write a program that demonstrates using multiple except blocks to handle different types of exceptions.\n",
        "\n",
        "try:\n",
        "    a = [1, 2]\n",
        "    print(a[5])\n",
        "except IndexError:\n",
        "    print(\"Index Error\")\n",
        "except KeyError:\n",
        "    print(\"Key Error\")\n"
      ],
      "metadata": {
        "colab": {
          "base_uri": "https://localhost:8080/"
        },
        "id": "GH6YpZMgXPpF",
        "outputId": "8d5ea35b-f97e-411e-919f-202e46248b0f"
      },
      "execution_count": 13,
      "outputs": [
        {
          "output_type": "stream",
          "name": "stdout",
          "text": [
            "Index Error\n"
          ]
        }
      ]
    },
    {
      "cell_type": "code",
      "source": [
        "# How would you check if a file exists before attempting to read it in Python.\n",
        "\n",
        "import os\n",
        "if os.path.exists(\"file1.txt\"):\n",
        "    print(\"File exists\")\n",
        "else:\n",
        "    print(\"File not found\")\n"
      ],
      "metadata": {
        "colab": {
          "base_uri": "https://localhost:8080/"
        },
        "id": "MjrXDDrfXZnb",
        "outputId": "a9223167-00be-47b0-b1f9-482cc5bae65b"
      },
      "execution_count": 14,
      "outputs": [
        {
          "output_type": "stream",
          "name": "stdout",
          "text": [
            "File exists\n"
          ]
        }
      ]
    },
    {
      "cell_type": "code",
      "source": [
        "# Write a program that uses the logging module to log both informational and error messages.\n",
        "\n",
        "import logging\n",
        "logging.basicConfig(level=logging.DEBUG)\n",
        "\n",
        "logging.info(\"Info message\")\n",
        "logging.error(\"Error message\")\n"
      ],
      "metadata": {
        "colab": {
          "base_uri": "https://localhost:8080/"
        },
        "id": "TwNEzw3GXors",
        "outputId": "9a5be2bf-6110-472b-d433-12b6a378005d"
      },
      "execution_count": 15,
      "outputs": [
        {
          "output_type": "stream",
          "name": "stderr",
          "text": [
            "ERROR:root:Error message\n"
          ]
        }
      ]
    },
    {
      "cell_type": "code",
      "source": [
        "# Write a Python program that prints the content of a file and handles the case when the file is empty.\n",
        "\n",
        "with open(\"example.txt\", \"r\") as f:\n",
        "    content = f.read()\n",
        "    if content:\n",
        "        print(content)\n",
        "    else:\n",
        "        print(\"File is empty\")\n"
      ],
      "metadata": {
        "colab": {
          "base_uri": "https://localhost:8080/"
        },
        "id": "q1z8v1zOXzsG",
        "outputId": "ee07cac5-aa4d-4322-e534-64edfb4d472e"
      },
      "execution_count": 17,
      "outputs": [
        {
          "output_type": "stream",
          "name": "stdout",
          "text": [
            "Hello, this is a test.\n"
          ]
        }
      ]
    },
    {
      "cell_type": "code",
      "source": [
        "# Demonstrate how to use memory profiling to check the memory usage of a small program.\n",
        "\n",
        "# Install memory_profiler before using: pip install memory-profiler\n",
        "from memory_profiler import profile\n",
        "\n",
        "@profile\n",
        "def test():\n",
        "    a = [i for i in range(10000)]\n",
        "    return a\n",
        "\n",
        "test()\n"
      ],
      "metadata": {
        "colab": {
          "base_uri": "https://localhost:8080/",
          "height": 383
        },
        "collapsed": true,
        "id": "-2GxZN1aYDc6",
        "outputId": "5b12651f-6afe-4b70-f653-c6fa37dd5d4d"
      },
      "execution_count": 18,
      "outputs": [
        {
          "output_type": "error",
          "ename": "ModuleNotFoundError",
          "evalue": "No module named 'memory_profiler'",
          "traceback": [
            "\u001b[0;31m---------------------------------------------------------------------------\u001b[0m",
            "\u001b[0;31mModuleNotFoundError\u001b[0m                       Traceback (most recent call last)",
            "\u001b[0;32m/tmp/ipython-input-18-4081375363.py\u001b[0m in \u001b[0;36m<cell line: 0>\u001b[0;34m()\u001b[0m\n\u001b[1;32m      2\u001b[0m \u001b[0;34m\u001b[0m\u001b[0m\n\u001b[1;32m      3\u001b[0m \u001b[0;31m# Install memory_profiler before using: pip install memory-profiler\u001b[0m\u001b[0;34m\u001b[0m\u001b[0;34m\u001b[0m\u001b[0m\n\u001b[0;32m----> 4\u001b[0;31m \u001b[0;32mfrom\u001b[0m \u001b[0mmemory_profiler\u001b[0m \u001b[0;32mimport\u001b[0m \u001b[0mprofile\u001b[0m\u001b[0;34m\u001b[0m\u001b[0;34m\u001b[0m\u001b[0m\n\u001b[0m\u001b[1;32m      5\u001b[0m \u001b[0;34m\u001b[0m\u001b[0m\n\u001b[1;32m      6\u001b[0m \u001b[0;34m@\u001b[0m\u001b[0mprofile\u001b[0m\u001b[0;34m\u001b[0m\u001b[0;34m\u001b[0m\u001b[0m\n",
            "\u001b[0;31mModuleNotFoundError\u001b[0m: No module named 'memory_profiler'",
            "",
            "\u001b[0;31m---------------------------------------------------------------------------\u001b[0;32m\nNOTE: If your import is failing due to a missing package, you can\nmanually install dependencies using either !pip or !apt.\n\nTo view examples of installing some common dependencies, click the\n\"Open Examples\" button below.\n\u001b[0;31m---------------------------------------------------------------------------\u001b[0m\n"
          ],
          "errorDetails": {
            "actions": [
              {
                "action": "open_url",
                "actionText": "Open Examples",
                "url": "/notebooks/snippets/importing_libraries.ipynb"
              }
            ]
          }
        }
      ]
    },
    {
      "cell_type": "code",
      "source": [
        "# Write a Python program to create and write a list of numbers to a file, one number per line.\n",
        "\n",
        "numbers = [1, 2, 3, 4, 5]\n",
        "with open(\"numbers.txt\", \"w\") as f:\n",
        "    for n in numbers:\n",
        "        f.write(f\"{n}\\n\")\n"
      ],
      "metadata": {
        "id": "R7xd-DYFYgdK"
      },
      "execution_count": 19,
      "outputs": []
    },
    {
      "cell_type": "code",
      "source": [
        "# How would you implement a basic logging setup that logs to a file with rotation after 1MB ?\n",
        "\n",
        "import logging\n",
        "from logging.handlers import RotatingFileHandler\n",
        "\n",
        "handler = RotatingFileHandler(\"rotate.log\", maxBytes=1024, backupCount=2)\n",
        "logging.basicConfig(handlers=[handler], level=logging.INFO)\n",
        "\n",
        "for i in range(100):\n",
        "    logging.info(\"Log line %d\", i)\n"
      ],
      "metadata": {
        "id": "_R03UZT_Yq8f"
      },
      "execution_count": 20,
      "outputs": []
    },
    {
      "cell_type": "code",
      "source": [
        "# Write a program that handles both IndexError and KeyError using a try-except block.\n",
        "\n",
        "try:\n",
        "    data = [1, 2]\n",
        "    print(data[5])\n",
        "    d = {\"a\": 1}\n",
        "    print(d[\"b\"])\n",
        "except IndexError:\n",
        "    print(\"Index Error\")\n",
        "except KeyError:\n",
        "    print(\"Key Error\")\n"
      ],
      "metadata": {
        "colab": {
          "base_uri": "https://localhost:8080/"
        },
        "id": "G8iBJDVNY5z2",
        "outputId": "79317b2d-5659-4c2b-8427-d6a9ac5fb9cd"
      },
      "execution_count": 21,
      "outputs": [
        {
          "output_type": "stream",
          "name": "stdout",
          "text": [
            "Index Error\n"
          ]
        }
      ]
    },
    {
      "cell_type": "code",
      "source": [
        "# How would you open a file and read its contents using a context manager in Python ?\n",
        "\n",
        "with open(\"file1.txt\", \"r\") as f:\n",
        "    print(f.read())\n"
      ],
      "metadata": {
        "colab": {
          "base_uri": "https://localhost:8080/"
        },
        "id": "GmhrrReRZORH",
        "outputId": "f0af4c24-033e-41de-edc8-c181a1303881"
      },
      "execution_count": 22,
      "outputs": [
        {
          "output_type": "stream",
          "name": "stdout",
          "text": [
            "\n",
            "Appended line\n"
          ]
        }
      ]
    },
    {
      "cell_type": "code",
      "source": [
        "# Write a Python program that reads a file and prints the number of occurrences of a specific word.\n",
        "\n",
        "word = \"test\"\n",
        "with open(\"file1.txt\", \"r\") as f:\n",
        "    content = f.read()\n",
        "    count = content.count(word)\n",
        "    print(f\"'{word}' occurs {count} times.\")\n"
      ],
      "metadata": {
        "colab": {
          "base_uri": "https://localhost:8080/"
        },
        "id": "prKrWGk5Zaso",
        "outputId": "25587c8a-9887-42ed-a6a3-60165f1c3ca6"
      },
      "execution_count": 23,
      "outputs": [
        {
          "output_type": "stream",
          "name": "stdout",
          "text": [
            "'test' occurs 0 times.\n"
          ]
        }
      ]
    },
    {
      "cell_type": "code",
      "source": [
        "# How can you check if a file is empty before attempting to read its contents ?\n",
        "\n",
        "import os\n",
        "if os.stat(\"example.txt\").st_size == 0:\n",
        "    print(\"File is empty\")\n",
        "else:\n",
        "    print(\"File has content\")\n"
      ],
      "metadata": {
        "colab": {
          "base_uri": "https://localhost:8080/"
        },
        "id": "zqe0NZ-LZhxS",
        "outputId": "d50d0705-429b-496e-b7e1-9b7e2dca448f"
      },
      "execution_count": 25,
      "outputs": [
        {
          "output_type": "stream",
          "name": "stdout",
          "text": [
            "File has content\n"
          ]
        }
      ]
    },
    {
      "cell_type": "code",
      "source": [
        "# Write a Python program that writes to a log file when an error occurs during file handling.\n",
        "\n",
        "import logging\n",
        "logging.basicConfig(filename='file_error.log', level=logging.ERROR)\n",
        "\n",
        "try:\n",
        "    with open(\"nofile.txt\") as f:\n",
        "        f.read()\n",
        "except Exception as e:\n",
        "    logging.error(\"File handling error: %s\", e)\n"
      ],
      "metadata": {
        "colab": {
          "base_uri": "https://localhost:8080/"
        },
        "id": "Ppe8wcwqZtzE",
        "outputId": "b2a4f79f-a0d7-4975-b8d5-87b6d3f32bab"
      },
      "execution_count": 26,
      "outputs": [
        {
          "output_type": "stream",
          "name": "stderr",
          "text": [
            "ERROR:root:File handling error: [Errno 2] No such file or directory: 'nofile.txt'\n"
          ]
        }
      ]
    }
  ]
}